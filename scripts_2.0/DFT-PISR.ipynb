{
 "cells": [
  {
   "cell_type": "code",
   "execution_count": 1,
   "id": "9d063acf",
   "metadata": {},
   "outputs": [
    {
     "data": {
      "text/markdown": [
       "This version of Feyn and the QLattice is available for academic, personal, and non-commercial use. By using the community version of this software you agree to the terms and conditions which can be found at https://abzu.ai/eula."
      ],
      "text/plain": [
       "<IPython.core.display.Markdown object>"
      ]
     },
     "metadata": {},
     "output_type": "display_data"
    }
   ],
   "source": [
    "import pandas as pd\n",
    "import numpy as np\n",
    "from sklearn.model_selection import train_test_split, StratifiedKFold\n",
    "from sklearn.preprocessing import StandardScaler\n",
    "from sklearn.metrics import accuracy_score, confusion_matrix\n",
    "import matplotlib.pyplot as plt\n",
    "import seaborn as sns\n",
    "import matplotlib.patches as mpatches\n",
    "\n",
    "\n",
    "# Model agnostic \n",
    "from typing import Optional, List, Callable, Dict, Any, List\n",
    "from pathlib import Path\n",
    "from utils import ChiefBldr, QLatticeWrapper\n",
    "from dft_model import DFT"
   ]
  },
  {
   "cell_type": "code",
   "execution_count": 2,
   "id": "3c8e7a81",
   "metadata": {},
   "outputs": [],
   "source": [
    "# Get the directory this file lives in\n",
    "nb_dir = Path.cwd() # notebook directory\n",
    "project_root = nb_dir.parents[0] # project directory\n",
    "data_path = project_root / \"datasets\" / \"processed_well_data.csv\"\n",
    "\n",
    "includ_cols = ['Dia', 'Dev(deg)','Area (m2)', 'z','GasDens','LiquidDens', 'g (m/s2)', 'P/T','friction_factor', 'critical_film_thickness']\n",
    "D = ChiefBldr(path=data_path, includ_cols=includ_cols, test_size=0.20, scale=False)"
   ]
  },
  {
   "cell_type": "code",
   "execution_count": 3,
   "id": "a6afe02c",
   "metadata": {},
   "outputs": [
    {
     "name": "stderr",
     "output_type": "stream",
     "text": [
      "Training model and optimizing hyperparameters via k-fold CV...\n",
      "Done. Best score = 0.6869875222816398\n",
      "Best hyperparameters: {'dev_tol': 0.0001, 'feature_tol': 1.0, 'multiple_dev_policy': 'max'}\n",
      "Retraining optimized model on full training set\n"
     ]
    },
    {
     "name": "stdout",
     "output_type": "stream",
     "text": [
      "Training set R2: 0.9823225194521445\n",
      "Test set R2: -9.269055704669235\n"
     ]
    },
    {
     "name": "stderr",
     "output_type": "stream",
     "text": [
      "Training set class score: 0.9397590361445783\n",
      "Test set class score: 0.7142857142857143\n"
     ]
    }
   ],
   "source": [
    "# define xgboost pipeline\n",
    "def dft(\n",
    "        hparams: Dict[str, Any]\n",
    "):\n",
    "    dft = DFT(\n",
    "        **hparams,\n",
    "    )\n",
    "\n",
    "    return dft\n",
    "\n",
    "hparam_grid = {\n",
    "            \"dev_tol\":   [1e-4, 1e-3, 1e-2],\n",
    "            \"feature_tol\": [0.5, 1.0, 2.0],\n",
    "            \"multiple_dev_policy\": [\"max\", \"min\", \"mean\"]\n",
    "        }\n",
    "\n",
    "# train model and optimize hyperparameters via grid search \n",
    "trained_model = D.evolv_model(build_model=dft, hparam_grid=hparam_grid, k_folds=5)"
   ]
  },
  {
   "cell_type": "code",
   "execution_count": 4,
   "id": "110eb9c7",
   "metadata": {},
   "outputs": [
    {
     "ename": "KeyError",
     "evalue": "(0, 1)",
     "output_type": "error",
     "traceback": [
      "\u001b[0;31m---------------------------------------------------------------------------\u001b[0m",
      "\u001b[0;31mKeyError\u001b[0m                                  Traceback (most recent call last)",
      "File \u001b[0;32m/opt/anaconda3/lib/python3.12/site-packages/pandas/core/indexes/base.py:3805\u001b[0m, in \u001b[0;36mIndex.get_loc\u001b[0;34m(self, key)\u001b[0m\n\u001b[1;32m   3804\u001b[0m \u001b[38;5;28;01mtry\u001b[39;00m:\n\u001b[0;32m-> 3805\u001b[0m     \u001b[38;5;28;01mreturn\u001b[39;00m \u001b[38;5;28mself\u001b[39m\u001b[38;5;241m.\u001b[39m_engine\u001b[38;5;241m.\u001b[39mget_loc(casted_key)\n\u001b[1;32m   3806\u001b[0m \u001b[38;5;28;01mexcept\u001b[39;00m \u001b[38;5;167;01mKeyError\u001b[39;00m \u001b[38;5;28;01mas\u001b[39;00m err:\n",
      "File \u001b[0;32mindex.pyx:167\u001b[0m, in \u001b[0;36mpandas._libs.index.IndexEngine.get_loc\u001b[0;34m()\u001b[0m\n",
      "File \u001b[0;32mindex.pyx:196\u001b[0m, in \u001b[0;36mpandas._libs.index.IndexEngine.get_loc\u001b[0;34m()\u001b[0m\n",
      "File \u001b[0;32mpandas/_libs/hashtable_class_helper.pxi:7081\u001b[0m, in \u001b[0;36mpandas._libs.hashtable.PyObjectHashTable.get_item\u001b[0;34m()\u001b[0m\n",
      "File \u001b[0;32mpandas/_libs/hashtable_class_helper.pxi:7089\u001b[0m, in \u001b[0;36mpandas._libs.hashtable.PyObjectHashTable.get_item\u001b[0;34m()\u001b[0m\n",
      "\u001b[0;31mKeyError\u001b[0m: (0, 1)",
      "\nThe above exception was the direct cause of the following exception:\n",
      "\u001b[0;31mKeyError\u001b[0m                                  Traceback (most recent call last)",
      "Cell \u001b[0;32mIn[4], line 22\u001b[0m\n\u001b[1;32m     14\u001b[0m color_map \u001b[38;5;241m=\u001b[39m {\n\u001b[1;32m     15\u001b[0m     \u001b[38;5;124m'\u001b[39m\u001b[38;5;124mLoaded\u001b[39m\u001b[38;5;124m'\u001b[39m: \u001b[38;5;124m'\u001b[39m\u001b[38;5;124m#FF6363\u001b[39m\u001b[38;5;124m'\u001b[39m,  \u001b[38;5;66;03m# Light red\u001b[39;00m\n\u001b[1;32m     16\u001b[0m     \u001b[38;5;124m'\u001b[39m\u001b[38;5;124mUnloaded\u001b[39m\u001b[38;5;124m'\u001b[39m: \u001b[38;5;124m'\u001b[39m\u001b[38;5;124m#3674B5\u001b[39m\u001b[38;5;124m'\u001b[39m,  \u001b[38;5;66;03m# Light purple\u001b[39;00m\n\u001b[1;32m     17\u001b[0m     \u001b[38;5;124m'\u001b[39m\u001b[38;5;124mQuestionable\u001b[39m\u001b[38;5;124m'\u001b[39m: \u001b[38;5;124m'\u001b[39m\u001b[38;5;124m#D3D3D3\u001b[39m\u001b[38;5;124m'\u001b[39m,  \u001b[38;5;66;03m# Light orange\u001b[39;00m\n\u001b[1;32m     18\u001b[0m     \u001b[38;5;124m'\u001b[39m\u001b[38;5;124mNear L.U\u001b[39m\u001b[38;5;124m'\u001b[39m: \u001b[38;5;124m'\u001b[39m\u001b[38;5;124m#FFCC99\u001b[39m\u001b[38;5;124m'\u001b[39m  \u001b[38;5;66;03m# Light blue\u001b[39;00m\n\u001b[1;32m     19\u001b[0m }\n\u001b[1;32m     21\u001b[0m colors \u001b[38;5;241m=\u001b[39m D\u001b[38;5;241m.\u001b[39mstatus_col\u001b[38;5;241m.\u001b[39mmap(color_map)\u001b[38;5;241m.\u001b[39mfillna(\u001b[38;5;124m'\u001b[39m\u001b[38;5;124m#D3D3D3\u001b[39m\u001b[38;5;124m'\u001b[39m)  \u001b[38;5;66;03m# Light gray for missing values\u001b[39;00m\n\u001b[0;32m---> 22\u001b[0m y_pred \u001b[38;5;241m=\u001b[39m trained_model\u001b[38;5;241m.\u001b[39mpredict(D\u001b[38;5;241m.\u001b[39mX)\n\u001b[1;32m     23\u001b[0m \u001b[38;5;66;03m# y_pred = D.scaler_y.inverse_transform(y_pred_scaled.reshape(-1, 1)).flatten()\u001b[39;00m\n\u001b[1;32m     24\u001b[0m plt\u001b[38;5;241m.\u001b[39mfigure(figsize\u001b[38;5;241m=\u001b[39m(\u001b[38;5;241m8\u001b[39m, \u001b[38;5;241m6\u001b[39m), dpi\u001b[38;5;241m=\u001b[39m\u001b[38;5;241m300\u001b[39m)\n",
      "File \u001b[0;32m~/Documents/UM-Google Drive/Classes/ChE 696/project/symbolic-machine-learning-liquidloading/scripts_2.0/dft_model.py:145\u001b[0m, in \u001b[0;36mDFT.predict\u001b[0;34m(self, X, dev_train, alpha_strategy)\u001b[0m\n\u001b[1;32m    142\u001b[0m alpha_used \u001b[38;5;241m=\u001b[39m []\n\u001b[1;32m    144\u001b[0m \u001b[38;5;28;01mfor\u001b[39;00m i \u001b[38;5;129;01min\u001b[39;00m \u001b[38;5;28mrange\u001b[39m(\u001b[38;5;28mlen\u001b[39m(X)):\n\u001b[0;32m--> 145\u001b[0m     d_new \u001b[38;5;241m=\u001b[39m X[i, \u001b[38;5;241m1\u001b[39m]  \u001b[38;5;66;03m# Dev(deg) of new sample\u001b[39;00m\n\u001b[1;32m    147\u001b[0m     \u001b[38;5;28;01mif\u001b[39;00m d_new \u001b[38;5;241m<\u001b[39m \u001b[38;5;241m10\u001b[39m:\n\u001b[1;32m    148\u001b[0m         \u001b[38;5;66;03m# For dev < 20: use matching based on Dev(deg) with specified policy\u001b[39;00m\n\u001b[1;32m    149\u001b[0m         match_idx \u001b[38;5;241m=\u001b[39m np\u001b[38;5;241m.\u001b[39mwhere(np\u001b[38;5;241m.\u001b[39mabs(dev_train \u001b[38;5;241m-\u001b[39m d_new) \u001b[38;5;241m<\u001b[39m\u001b[38;5;241m=\u001b[39m \u001b[38;5;28mself\u001b[39m\u001b[38;5;241m.\u001b[39mdev_tol)[\u001b[38;5;241m0\u001b[39m]\n",
      "File \u001b[0;32m/opt/anaconda3/lib/python3.12/site-packages/pandas/core/frame.py:4102\u001b[0m, in \u001b[0;36mDataFrame.__getitem__\u001b[0;34m(self, key)\u001b[0m\n\u001b[1;32m   4100\u001b[0m \u001b[38;5;28;01mif\u001b[39;00m \u001b[38;5;28mself\u001b[39m\u001b[38;5;241m.\u001b[39mcolumns\u001b[38;5;241m.\u001b[39mnlevels \u001b[38;5;241m>\u001b[39m \u001b[38;5;241m1\u001b[39m:\n\u001b[1;32m   4101\u001b[0m     \u001b[38;5;28;01mreturn\u001b[39;00m \u001b[38;5;28mself\u001b[39m\u001b[38;5;241m.\u001b[39m_getitem_multilevel(key)\n\u001b[0;32m-> 4102\u001b[0m indexer \u001b[38;5;241m=\u001b[39m \u001b[38;5;28mself\u001b[39m\u001b[38;5;241m.\u001b[39mcolumns\u001b[38;5;241m.\u001b[39mget_loc(key)\n\u001b[1;32m   4103\u001b[0m \u001b[38;5;28;01mif\u001b[39;00m is_integer(indexer):\n\u001b[1;32m   4104\u001b[0m     indexer \u001b[38;5;241m=\u001b[39m [indexer]\n",
      "File \u001b[0;32m/opt/anaconda3/lib/python3.12/site-packages/pandas/core/indexes/base.py:3812\u001b[0m, in \u001b[0;36mIndex.get_loc\u001b[0;34m(self, key)\u001b[0m\n\u001b[1;32m   3807\u001b[0m     \u001b[38;5;28;01mif\u001b[39;00m \u001b[38;5;28misinstance\u001b[39m(casted_key, \u001b[38;5;28mslice\u001b[39m) \u001b[38;5;129;01mor\u001b[39;00m (\n\u001b[1;32m   3808\u001b[0m         \u001b[38;5;28misinstance\u001b[39m(casted_key, abc\u001b[38;5;241m.\u001b[39mIterable)\n\u001b[1;32m   3809\u001b[0m         \u001b[38;5;129;01mand\u001b[39;00m \u001b[38;5;28many\u001b[39m(\u001b[38;5;28misinstance\u001b[39m(x, \u001b[38;5;28mslice\u001b[39m) \u001b[38;5;28;01mfor\u001b[39;00m x \u001b[38;5;129;01min\u001b[39;00m casted_key)\n\u001b[1;32m   3810\u001b[0m     ):\n\u001b[1;32m   3811\u001b[0m         \u001b[38;5;28;01mraise\u001b[39;00m InvalidIndexError(key)\n\u001b[0;32m-> 3812\u001b[0m     \u001b[38;5;28;01mraise\u001b[39;00m \u001b[38;5;167;01mKeyError\u001b[39;00m(key) \u001b[38;5;28;01mfrom\u001b[39;00m \u001b[38;5;21;01merr\u001b[39;00m\n\u001b[1;32m   3813\u001b[0m \u001b[38;5;28;01mexcept\u001b[39;00m \u001b[38;5;167;01mTypeError\u001b[39;00m:\n\u001b[1;32m   3814\u001b[0m     \u001b[38;5;66;03m# If we have a listlike key, _check_indexing_error will raise\u001b[39;00m\n\u001b[1;32m   3815\u001b[0m     \u001b[38;5;66;03m#  InvalidIndexError. Otherwise we fall through and re-raise\u001b[39;00m\n\u001b[1;32m   3816\u001b[0m     \u001b[38;5;66;03m#  the TypeError.\u001b[39;00m\n\u001b[1;32m   3817\u001b[0m     \u001b[38;5;28mself\u001b[39m\u001b[38;5;241m.\u001b[39m_check_indexing_error(key)\n",
      "\u001b[0;31mKeyError\u001b[0m: (0, 1)"
     ]
    }
   ],
   "source": [
    "import matplotlib.pyplot as plt\n",
    "import matplotlib.patches as mpatches\n",
    "import seaborn as sns\n",
    "import numpy as np\n",
    "\n",
    "# Set publication-friendly plotting settings\n",
    "plt.rcParams['text.usetex'] = False\n",
    "plt.rcParams['font.family'] = 'Arial'  # Publication-friendly font\n",
    "plt.rcParams['axes.linewidth'] = 0.8\n",
    "plt.rcParams['xtick.direction'] = 'in'\n",
    "plt.rcParams['ytick.direction'] = 'in'\n",
    "\n",
    "# Define a light, publication-friendly color palette without green\n",
    "color_map = {\n",
    "    'Loaded': '#FF6363',  # Light red\n",
    "    'Unloaded': '#3674B5',  # Light purple\n",
    "    'Questionable': '#D3D3D3',  # Light orange\n",
    "    'Near L.U': '#FFCC99'  # Light blue\n",
    "}\n",
    "\n",
    "colors = D.status_col.map(color_map).fillna('#D3D3D3')  # Light gray for missing values\n",
    "y_pred = trained_model.predict(D.X)\n",
    "# y_pred = D.scaler_y.inverse_transform(y_pred_scaled.reshape(-1, 1)).flatten()\n",
    "plt.figure(figsize=(8, 6), dpi=300)\n",
    "sns.set_theme(style=\"whitegrid\", context=\"paper\", font_scale=1.3, font='Arial')\n",
    "plt.scatter(D.gsflow , y_pred, c=colors, alpha=1, s=100, edgecolors=\"gray\", linewidth=0.5)\n",
    "plt.plot([0, 350000], [0, 350000], '--', color='#FF6666', linewidth=1.5)  # Light red dashed line\n",
    "plt.title(\"XGBoost Model\", fontsize=16, fontweight='bold', pad=15)\n",
    "plt.xlabel(\"Measured Well Flow Rate (m³/day)\", fontsize=14, fontweight='bold')\n",
    "plt.ylabel(\"Predicted Critical Rate (m³/day)\", fontsize=14, fontweight='bold')\n",
    "plt.grid(True, linestyle='--', alpha=0.7)\n",
    "plt.xlim(0, 350000)\n",
    "plt.ylim(0, 350000)\n",
    "legend_patches = [mpatches.Patch(color=color, label=status) for status, color in color_map.items()]\n",
    "plt.legend(handles=legend_patches, title='Actual Label', fontsize=12, title_fontsize=14, \n",
    "           loc='best', frameon=True, edgecolor='gray')\n",
    "plt.tight_layout()\n",
    "plt.savefig(\"xgboost_scatter.pdf\", format=\"pdf\", dpi=300, bbox_inches='tight')\n",
    "plt.show()\n",
    "plt.close()"
   ]
  }
 ],
 "metadata": {
  "kernelspec": {
   "display_name": "base",
   "language": "python",
   "name": "python3"
  },
  "language_info": {
   "codemirror_mode": {
    "name": "ipython",
    "version": 3
   },
   "file_extension": ".py",
   "mimetype": "text/x-python",
   "name": "python",
   "nbconvert_exporter": "python",
   "pygments_lexer": "ipython3",
   "version": "3.12.2"
  }
 },
 "nbformat": 4,
 "nbformat_minor": 5
}
