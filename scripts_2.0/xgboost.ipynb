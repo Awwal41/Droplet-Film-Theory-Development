{
  "cells": [
    {
      "cell_type": "code",
      "execution_count": 1,
      "metadata": {
        "id": "1EWx13AGiaPq"
      },
      "outputs": [],
      "source": [
        "# Model agnostic \n",
        "import numpy as np\n",
        "import matplotlib.pyplot as plt\n",
        "import matplotlib.patches as mpatches\n",
        "import seaborn as sns\n",
        "import pandas as pd\n",
        "from typing import Optional, List, Callable, Dict, Any, List\n",
        "from pathlib import Path\n",
        "from dft_utils import ChiefBldr  # custom model for data handling/model trianing\n",
        "\n",
        "# Model specific \n",
        "from xgboost import XGBRegressor\n",
        "from sklearn.feature_selection import SelectFromModel\n",
        "from sklearn.pipeline import Pipeline\n",
        "from typing import Optional, List "
      ]
    },
    {
      "cell_type": "code",
      "execution_count": 2,
      "metadata": {},
      "outputs": [],
      "source": [
        "# Get the directory this file lives in\n",
        "nb_dir = Path.cwd() # notebook directory\n",
        "project_root = nb_dir.parents[0] # project directory\n",
        "data_path = project_root / \"datasets\" / \"processed_well_data.csv\"\n",
        "\n",
        "drop_cols = ['Dia', 'Dev(deg)','Area (m2)', 'z','GasDens','LiquidDens', 'P/T','friction_factor', 'critical_film_thickness', 'Test status', 'Qcr', 'Gasflowrate', 'ΔQ']\n",
        "D = ChiefBldr(path=data_path, drop_cols=drop_cols, test_size=0.20)"
      ]
    },
    {
      "cell_type": "code",
      "execution_count": 3,
      "metadata": {},
      "outputs": [
        {
          "name": "stdout",
          "output_type": "stream",
          "text": [
            "Training model and optimizing hyperparameters via k-fold CV...\n",
            "Done. Best score = 0.7885918003565063\n",
            "Best hyperparameters: {'n_estimators': 50, 'learning_rate': 0.1, 'max_depth': 15}\n",
            "Retraining optimized model on full training set\n",
            "Training set score: 0.9457831325301205\n",
            "Test set score: 0.8095238095238095\n",
            "Features kept by SelectFromModel:\n",
            "['LiquidFlowrate', 'Vsg', 'Vsl', 'Reg', 'd(0,90)', 'd(120,90)']\n"
          ]
        }
      ],
      "source": [
        "# define xgboost pipeline\n",
        "def xgboost(\n",
        "        hparams: Dict[str,Any]\n",
        ") -> Pipeline:\n",
        "    \n",
        "    xgb = XGBRegressor(\n",
        "        objective=\"reg:squarederror\",\n",
        "        random_state=42,\n",
        "        importance_type=\"gain\", \n",
        "        **hparams, # ** unravels to sets of key, value \n",
        "        )\n",
        "    # 2) Wrap it in SelectFromModel\n",
        "    selector = SelectFromModel(\n",
        "        estimator=xgb,\n",
        "        threshold=\"mean\",                # keep features with importance ≥ mean importance\n",
        "        prefit=False                     # will fit selector inside the pipeline\n",
        "    )\n",
        "\n",
        "    # 3) Build a pipeline\n",
        "    pipe = Pipeline([\n",
        "        (\"feature_sel\", selector),\n",
        "        (\"model\",       xgb),\n",
        "    ])\n",
        "\n",
        "    return pipe\n",
        "\n",
        "hparam_grid = {\n",
        "            \"n_estimators\":   [25, 40, 50],\n",
        "            \"learning_rate\":  [0.01, 0.05, 0.1],\n",
        "            \"max_depth\":      [10, 15, 50],\n",
        "        }\n",
        "# train model and optimize hyperparameters via grid search \n",
        "trained_model = D.evolv_model(build_model=xgboost, hparam_grid=hparam_grid, k_folds=5)\n",
        "\n",
        "mask = trained_model.named_steps[\"feature_sel\"].get_support()  \n",
        "#    ↑ this is a 1d array of True/False of length n_features\n",
        "\n",
        "# index into column names\n",
        "selected_features = D.X.columns[mask]\n",
        "\n",
        "print(\"Features kept by SelectFromModel:\")\n",
        "print(selected_features.tolist())"
      ]
    }
  ],
  "metadata": {
    "colab": {
      "provenance": [],
      "toc_visible": true
    },
    "kernelspec": {
      "display_name": "base",
      "language": "python",
      "name": "python3"
    },
    "language_info": {
      "codemirror_mode": {
        "name": "ipython",
        "version": 3
      },
      "file_extension": ".py",
      "mimetype": "text/x-python",
      "name": "python",
      "nbconvert_exporter": "python",
      "pygments_lexer": "ipython3",
      "version": "3.12.2"
    }
  },
  "nbformat": 4,
  "nbformat_minor": 0
}
