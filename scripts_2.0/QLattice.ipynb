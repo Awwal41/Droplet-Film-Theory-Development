{
 "cells": [
  {
   "cell_type": "code",
   "execution_count": 1,
   "id": "9f5ec9f8",
   "metadata": {},
   "outputs": [
    {
     "data": {
      "text/markdown": [
       "This version of Feyn and the QLattice is available for academic, personal, and non-commercial use. By using the community version of this software you agree to the terms and conditions which can be found at https://abzu.ai/eula."
      ],
      "text/plain": [
       "<IPython.core.display.Markdown object>"
      ]
     },
     "metadata": {},
     "output_type": "display_data"
    }
   ],
   "source": [
    "import pandas as pd\n",
    "import numpy as np\n",
    "from sklearn.model_selection import train_test_split, StratifiedKFold\n",
    "from sklearn.preprocessing import StandardScaler\n",
    "from sklearn.metrics import accuracy_score, confusion_matrix\n",
    "import matplotlib.pyplot as plt\n",
    "import seaborn as sns\n",
    "import matplotlib.patches as mpatches\n",
    "import feyn\n",
    "\n",
    "# Model agnostic \n",
    "from typing import Optional, List, Callable, Dict, Any, List\n",
    "from pathlib import Path\n",
    "from utils import ChiefBldr, QLatticeWrapper"
   ]
  },
  {
   "cell_type": "code",
   "execution_count": 2,
   "id": "47c19dd2",
   "metadata": {},
   "outputs": [],
   "source": [
    "# Get the directory this file lives in\n",
    "nb_dir = Path.cwd() # notebook directory\n",
    "project_root = nb_dir.parents[0] # project directory\n",
    "data_path = project_root / \"datasets\" / \"processed_well_data.csv\"\n",
    "\n",
    "includ_cols = ['Dia', 'Dev(deg)','Area (m2)', 'z','GasDens','LiquidDens', 'P/T','friction_factor', 'critical_film_thickness']\n",
    "D = ChiefBldr(path=data_path, includ_cols=includ_cols, test_size=0.20)"
   ]
  },
  {
   "cell_type": "code",
   "execution_count": 3,
   "id": "71c92a6e",
   "metadata": {},
   "outputs": [
    {
     "name": "stderr",
     "output_type": "stream",
     "text": [
      "Training model and optimizing hyperparameters via k-fold CV...\n",
      "[WARNING: feyn._qlattice] - Deprecation: The connect_qlattice() is deprecated. Use the `feyn.QLattice()` constructor instead.\n"
     ]
    },
    {
     "ename": "TypeError",
     "evalue": "QLattice.auto_run() got an unexpected keyword argument 'show_progress'",
     "output_type": "error",
     "traceback": [
      "\u001b[0;31m---------------------------------------------------------------------------\u001b[0m",
      "\u001b[0;31mTypeError\u001b[0m                                 Traceback (most recent call last)",
      "Cell \u001b[0;32mIn[3], line 17\u001b[0m\n\u001b[1;32m     12\u001b[0m hparam_grid \u001b[38;5;241m=\u001b[39m {\n\u001b[1;32m     13\u001b[0m             \u001b[38;5;124m\"\u001b[39m\u001b[38;5;124mmax_complexity\u001b[39m\u001b[38;5;124m\"\u001b[39m:   [\u001b[38;5;241m5\u001b[39m],\n\u001b[1;32m     14\u001b[0m             \u001b[38;5;124m\"\u001b[39m\u001b[38;5;124mn_epochs\u001b[39m\u001b[38;5;124m\"\u001b[39m:         [\u001b[38;5;241m5\u001b[39m],\n\u001b[1;32m     15\u001b[0m         }\n\u001b[1;32m     16\u001b[0m \u001b[38;5;66;03m# train model and optimize hyperparameters via grid search \u001b[39;00m\n\u001b[0;32m---> 17\u001b[0m trained_model \u001b[38;5;241m=\u001b[39m D\u001b[38;5;241m.\u001b[39mevolv_model(build_model\u001b[38;5;241m=\u001b[39mqlattice, hparam_grid\u001b[38;5;241m=\u001b[39mhparam_grid, k_folds\u001b[38;5;241m=\u001b[39m\u001b[38;5;241m5\u001b[39m)\n\u001b[1;32m     19\u001b[0m \u001b[38;5;66;03m# output equation \u001b[39;00m\n\u001b[1;32m     20\u001b[0m \u001b[38;5;28mprint\u001b[39m(trained_model\u001b[38;5;241m.\u001b[39mexpress())\n",
      "File \u001b[0;32m~/Documents/UM-Google Drive/Classes/ChE 696/project/symbolic-machine-learning-liquidloading/scripts_2.0/utils.py:215\u001b[0m, in \u001b[0;36mChiefBldr.evolv_model\u001b[0;34m(self, build_model, hparam_grid, k_folds)\u001b[0m\n\u001b[1;32m    213\u001b[0m \u001b[38;5;66;03m# evaluate model on these params\u001b[39;00m\n\u001b[1;32m    214\u001b[0m model \u001b[38;5;241m=\u001b[39m build_model(hparams\u001b[38;5;241m=\u001b[39mhparams) \u001b[38;5;66;03m# model defined and passed by user\u001b[39;00m\n\u001b[0;32m--> 215\u001b[0m \u001b[38;5;28mself\u001b[39m\u001b[38;5;241m.\u001b[39mscore \u001b[38;5;241m=\u001b[39m \u001b[38;5;28mself\u001b[39m\u001b[38;5;241m.\u001b[39m_cross_val(model\u001b[38;5;241m=\u001b[39mmodel) \u001b[38;5;66;03m# perform k-fold CV for each set of hparams \u001b[39;00m\n\u001b[1;32m    217\u001b[0m \u001b[38;5;66;03m# collect the best set of hyperparameters \u001b[39;00m\n\u001b[1;32m    218\u001b[0m \u001b[38;5;28;01mif\u001b[39;00m \u001b[38;5;28mself\u001b[39m\u001b[38;5;241m.\u001b[39mscore \u001b[38;5;241m>\u001b[39m \u001b[38;5;28mself\u001b[39m\u001b[38;5;241m.\u001b[39mbest_score:\n",
      "File \u001b[0;32m~/Documents/UM-Google Drive/Classes/ChE 696/project/symbolic-machine-learning-liquidloading/scripts_2.0/utils.py:288\u001b[0m, in \u001b[0;36mChiefBldr._cross_val\u001b[0;34m(self, model)\u001b[0m\n\u001b[1;32m    286\u001b[0m     model\u001b[38;5;241m.\u001b[39mfit(X_train_cv_rdy, x_dot\u001b[38;5;241m=\u001b[39my_train_cv_rdy)\n\u001b[1;32m    287\u001b[0m \u001b[38;5;28;01melse\u001b[39;00m:\n\u001b[0;32m--> 288\u001b[0m     model\u001b[38;5;241m.\u001b[39mfit(X_train_cv_rdy, y_train_cv_rdy)\n\u001b[1;32m    290\u001b[0m \u001b[38;5;66;03m# evalaute the performance on the validation set \u001b[39;00m\n\u001b[1;32m    291\u001b[0m y_val_pred_cv \u001b[38;5;241m=\u001b[39m model\u001b[38;5;241m.\u001b[39mpredict(X_val_rdy)\n",
      "File \u001b[0;32m~/Documents/UM-Google Drive/Classes/ChE 696/project/symbolic-machine-learning-liquidloading/scripts_2.0/utils.py:48\u001b[0m, in \u001b[0;36mQLatticeWrapper.fit\u001b[0;34m(self, X, y)\u001b[0m\n\u001b[1;32m     45\u001b[0m data \u001b[38;5;241m=\u001b[39m pd\u001b[38;5;241m.\u001b[39mDataFrame(X, columns\u001b[38;5;241m=\u001b[39m\u001b[38;5;28mself\u001b[39m\u001b[38;5;241m.\u001b[39mfeature_tags)\n\u001b[1;32m     46\u001b[0m data[\u001b[38;5;28mself\u001b[39m\u001b[38;5;241m.\u001b[39moutput_tag] \u001b[38;5;241m=\u001b[39m y\n\u001b[0;32m---> 48\u001b[0m models \u001b[38;5;241m=\u001b[39m \u001b[38;5;28mself\u001b[39m\u001b[38;5;241m.\u001b[39mql\u001b[38;5;241m.\u001b[39mauto_run(\n\u001b[1;32m     49\u001b[0m     data\u001b[38;5;241m=\u001b[39mdata, \n\u001b[1;32m     50\u001b[0m     output_name\u001b[38;5;241m=\u001b[39m\u001b[38;5;28mself\u001b[39m\u001b[38;5;241m.\u001b[39moutput_tag,\n\u001b[1;32m     51\u001b[0m     criterion\u001b[38;5;241m=\u001b[39m\u001b[38;5;28mself\u001b[39m\u001b[38;5;241m.\u001b[39mcriterion, \n\u001b[1;32m     52\u001b[0m     max_complexity\u001b[38;5;241m=\u001b[39m\u001b[38;5;28mself\u001b[39m\u001b[38;5;241m.\u001b[39mmax_complexity,\n\u001b[1;32m     53\u001b[0m     n_epochs\u001b[38;5;241m=\u001b[39m\u001b[38;5;28mself\u001b[39m\u001b[38;5;241m.\u001b[39mn_epochs,\n\u001b[1;32m     54\u001b[0m     show_progress\u001b[38;5;241m=\u001b[39m\u001b[38;5;28;01mFalse\u001b[39;00m,\n\u001b[1;32m     55\u001b[0m )\n\u001b[1;32m     57\u001b[0m \u001b[38;5;28mself\u001b[39m\u001b[38;5;241m.\u001b[39mopt_model \u001b[38;5;241m=\u001b[39m models[\u001b[38;5;241m0\u001b[39m]\n\u001b[1;32m     59\u001b[0m \u001b[38;5;28;01mreturn\u001b[39;00m \u001b[38;5;28mself\u001b[39m\n",
      "File \u001b[0;32m/opt/anaconda3/lib/python3.12/site-packages/feyn/_typings.py:54\u001b[0m, in \u001b[0;36mcheck_types.<locals>.inner.<locals>.wrapper\u001b[0;34m(*args, **kwargs)\u001b[0m\n\u001b[1;32m     51\u001b[0m     \u001b[38;5;28;01mif\u001b[39;00m verbose:\n\u001b[1;32m     52\u001b[0m         \u001b[38;5;28mprint\u001b[39m(\u001b[38;5;124m\"\u001b[39m\u001b[38;5;124m---\u001b[39m\u001b[38;5;124m\"\u001b[39m)\n\u001b[0;32m---> 54\u001b[0m \u001b[38;5;28;01mreturn\u001b[39;00m func(\u001b[38;5;241m*\u001b[39margs, \u001b[38;5;241m*\u001b[39m\u001b[38;5;241m*\u001b[39mkwargs)\n",
      "\u001b[0;31mTypeError\u001b[0m: QLattice.auto_run() got an unexpected keyword argument 'show_progress'"
     ]
    }
   ],
   "source": [
    "# define xgboost pipeline\n",
    "def qlattice(\n",
    "        hparams: Dict[str,Any]\n",
    "):\n",
    "    ql_wrap = QLatticeWrapper(\n",
    "        feature_tags=includ_cols, \n",
    "        **hparams,\n",
    "    )\n",
    "\n",
    "    return ql_wrap\n",
    "\n",
    "hparam_grid = {\n",
    "            \"max_complexity\":   [5],\n",
    "            \"n_epochs\":         [5],\n",
    "        }\n",
    "# train model and optimize hyperparameters via grid search \n",
    "trained_model = D.evolv_model(build_model=qlattice, hparam_grid=hparam_grid, k_folds=5)\n",
    "\n",
    "# output equation \n",
    "print(trained_model.express())"
   ]
  }
 ],
 "metadata": {
  "kernelspec": {
   "display_name": "base",
   "language": "python",
   "name": "python3"
  },
  "language_info": {
   "codemirror_mode": {
    "name": "ipython",
    "version": 3
   },
   "file_extension": ".py",
   "mimetype": "text/x-python",
   "name": "python",
   "nbconvert_exporter": "python",
   "pygments_lexer": "ipython3",
   "version": "3.12.2"
  }
 },
 "nbformat": 4,
 "nbformat_minor": 5
}
