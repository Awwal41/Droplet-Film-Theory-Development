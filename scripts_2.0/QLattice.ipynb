{
 "cells": [
  {
   "cell_type": "code",
   "execution_count": 5,
   "id": "9f5ec9f8",
   "metadata": {},
   "outputs": [],
   "source": [
    "import pandas as pd\n",
    "import numpy as np\n",
    "from sklearn.model_selection import train_test_split, StratifiedKFold\n",
    "from sklearn.preprocessing import StandardScaler\n",
    "from sklearn.metrics import accuracy_score, confusion_matrix\n",
    "import matplotlib.pyplot as plt\n",
    "import seaborn as sns\n",
    "import matplotlib.patches as mpatches\n",
    "import feyn\n",
    "\n",
    "# Model agnostic \n",
    "from typing import Optional, List, Callable, Dict, Any, List\n",
    "from pathlib import Path\n",
    "from utils import ChiefBldr, QLatticeWrapper"
   ]
  },
  {
   "cell_type": "code",
   "execution_count": 2,
   "id": "47c19dd2",
   "metadata": {},
   "outputs": [],
   "source": [
    "# Get the directory this file lives in\n",
    "nb_dir = Path.cwd() # notebook directory\n",
    "project_root = nb_dir.parents[0] # project directory\n",
    "data_path = project_root / \"datasets\" / \"processed_well_data.csv\"\n",
    "\n",
    "includ_cols = ['Dia', 'Dev(deg)','Area (m2)', 'z','GasDens','LiquidDens', 'P/T','friction_factor', 'critical_film_thickness']\n",
    "D = ChiefBldr(path=data_path, includ_cols=includ_cols, test_size=0.20)"
   ]
  },
  {
   "cell_type": "code",
   "execution_count": 3,
   "id": "71c92a6e",
   "metadata": {},
   "outputs": [
    {
     "name": "stdout",
     "output_type": "stream",
     "text": [
      "Training set score: 0.6686746987951807\n",
      "Test set score: 0.6190476190476191\n",
      "1.49972*tanh(0.921327*Area (m2) + 0.21562*P/T + 0.271209*criticalfilmthickness + 0.31874) - 0.187703\n"
     ]
    }
   ],
   "source": [
    "# define xgboost pipeline\n",
    "def qlattice(\n",
    "        hparams: Dict[str,Any]\n",
    "):\n",
    "    ql_wrap = QLatticeWrapper(\n",
    "        feature_tags=includ_cols, \n",
    "        **hparams,\n",
    "    )\n",
    "\n",
    "    return ql_wrap\n",
    "\n",
    "hparam_grid = {\n",
    "            \"max_complexity\":   [5, 10, 15],\n",
    "            \"n_epochs\":         [5, 10, 15],\n",
    "        }\n",
    "# train model and optimize hyperparameters via grid search \n",
    "trained_model = D.evolv_model(build_model=qlattice, hparam_grid=hparam_grid, k_folds=5)\n",
    "\n",
    "# output equation \n",
    "print(trained_model.express())"
   ]
  }
 ],
 "metadata": {
  "kernelspec": {
   "display_name": "base",
   "language": "python",
   "name": "python3"
  },
  "language_info": {
   "codemirror_mode": {
    "name": "ipython",
    "version": 3
   },
   "file_extension": ".py",
   "mimetype": "text/x-python",
   "name": "python",
   "nbconvert_exporter": "python",
   "pygments_lexer": "ipython3",
   "version": "3.12.2"
  }
 },
 "nbformat": 4,
 "nbformat_minor": 5
}
