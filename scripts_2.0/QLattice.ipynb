{
 "cells": [
  {
   "cell_type": "code",
   "execution_count": 1,
   "id": "9f5ec9f8",
   "metadata": {},
   "outputs": [
    {
     "data": {
      "text/markdown": [
       "This version of Feyn and the QLattice is available for academic, personal, and non-commercial use. By using the community version of this software you agree to the terms and conditions which can be found at https://abzu.ai/eula."
      ],
      "text/plain": [
       "<IPython.core.display.Markdown object>"
      ]
     },
     "metadata": {},
     "output_type": "display_data"
    }
   ],
   "source": [
    "import pandas as pd\n",
    "import numpy as np\n",
    "from sklearn.model_selection import train_test_split, StratifiedKFold\n",
    "from sklearn.preprocessing import StandardScaler\n",
    "from sklearn.metrics import accuracy_score, confusion_matrix\n",
    "import matplotlib.pyplot as plt\n",
    "import seaborn as sns\n",
    "import matplotlib.patches as mpatches\n",
    "import feyn\n",
    "\n",
    "# Model agnostic \n",
    "from typing import Optional, List, Callable, Dict, Any, List\n",
    "from pathlib import Path\n",
    "from utils import ChiefBldr, QLatticeWrapper"
   ]
  },
  {
   "cell_type": "code",
   "execution_count": 2,
   "id": "47c19dd2",
   "metadata": {},
   "outputs": [],
   "source": [
    "# Get the directory this file lives in\n",
    "nb_dir = Path.cwd() # notebook directory\n",
    "project_root = nb_dir.parents[0] # project directory\n",
    "data_path = project_root / \"datasets\" / \"processed_well_data.csv\"\n",
    "\n",
    "includ_cols = ['Dia', 'Dev(deg)','Area (m2)', 'z','GasDens','LiquidDens', 'P/T','friction_factor', 'critical_film_thickness']\n",
    "D = ChiefBldr(path=data_path, includ_cols=includ_cols, test_size=0.20)"
   ]
  },
  {
   "cell_type": "code",
   "execution_count": 3,
   "id": "71c92a6e",
   "metadata": {},
   "outputs": [
    {
     "name": "stdout",
     "output_type": "stream",
     "text": [
      "Training set R2: 0.5443551700142581\n",
      "Test set R2: 0.4540572532903502\n"
     ]
    },
    {
     "name": "stderr",
     "output_type": "stream",
     "text": [
      "Training set class score: 0.572289156626506\n",
      "Test set class score: 0.5476190476190477\n"
     ]
    },
    {
     "name": "stdout",
     "output_type": "stream",
     "text": [
      "-1.44298*(-0.412728*P/T - 1.42342)*tanh(0.82414*Area (m2) + 0.517545) - 0.671326\n"
     ]
    }
   ],
   "source": [
    "# define xgboost pipeline\n",
    "def qlattice(\n",
    "        hparams: Dict[str,Any]\n",
    "):\n",
    "    ql_wrap = QLatticeWrapper(\n",
    "        feature_tags=includ_cols, \n",
    "        **hparams,\n",
    "    )\n",
    "\n",
    "    return ql_wrap\n",
    "\n",
    "hparam_grid = {\n",
    "            \"max_complexity\":   [5],\n",
    "            \"n_epochs\":         [5],\n",
    "        }\n",
    "# train model and optimize hyperparameters via grid search \n",
    "trained_model = D.evolv_model(build_model=qlattice, hparam_grid=hparam_grid, k_folds=5)\n",
    "\n",
    "# output equation \n",
    "print(trained_model.express())"
   ]
  },
  {
   "cell_type": "code",
   "execution_count": 4,
   "id": "61d55629",
   "metadata": {},
   "outputs": [],
   "source": [
    "import pandas as pd\n",
    "\n",
    "\n",
    "y_pred_scaled = trained_model.predict(D.scaler_X.transform(D.X))\n",
    "y_pred = D.scaler_y.inverse_transform(y_pred_scaled.reshape(-1, 1)).flatten()\n",
    "\n",
    "# Assuming y_pred and x1 are 1D arrays or lists of equal length\n",
    "df = pd.DataFrame({\n",
    "    'GasFlowrate': D.gsflow,\n",
    "    'y_pred': y_pred\n",
    "})\n",
    "\n",
    "df.to_csv('output_qlattice.csv', index=False)"
   ]
  }
 ],
 "metadata": {
  "kernelspec": {
   "display_name": "Python 3",
   "language": "python",
   "name": "python3"
  },
  "language_info": {
   "codemirror_mode": {
    "name": "ipython",
    "version": 3
   },
   "file_extension": ".py",
   "mimetype": "text/x-python",
   "name": "python",
   "nbconvert_exporter": "python",
   "pygments_lexer": "ipython3",
   "version": "3.11.5"
  }
 },
 "nbformat": 4,
 "nbformat_minor": 5
}
