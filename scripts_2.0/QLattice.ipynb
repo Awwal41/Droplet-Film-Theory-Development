{
 "cells": [
  {
   "cell_type": "code",
   "execution_count": 1,
   "id": "9f5ec9f8",
   "metadata": {},
   "outputs": [
    {
     "data": {
      "text/markdown": [
       "This version of Feyn and the QLattice is available for academic, personal, and non-commercial use. By using the community version of this software you agree to the terms and conditions which can be found at https://abzu.ai/eula."
      ],
      "text/plain": [
       "<IPython.core.display.Markdown object>"
      ]
     },
     "metadata": {},
     "output_type": "display_data"
    }
   ],
   "source": [
    "import pandas as pd\n",
    "import numpy as np\n",
    "from sklearn.model_selection import train_test_split, StratifiedKFold\n",
    "from sklearn.preprocessing import StandardScaler\n",
    "from sklearn.metrics import accuracy_score, confusion_matrix\n",
    "import matplotlib.pyplot as plt\n",
    "import seaborn as sns\n",
    "import matplotlib.patches as mpatches\n",
    "import feyn\n",
    "\n",
    "# Model agnostic \n",
    "from typing import Optional, List, Callable, Dict, Any, List\n",
    "from pathlib import Path\n",
    "from utils import ChiefBldr, QLatticeWrapper"
   ]
  },
  {
   "cell_type": "code",
   "execution_count": 2,
   "id": "47c19dd2",
   "metadata": {},
   "outputs": [],
   "source": [
    "# Get the directory this file lives in\n",
    "nb_dir = Path.cwd() # notebook directory\n",
    "project_root = nb_dir.parents[0] # project directory\n",
    "data_path = project_root / \"datasets\" / \"processed_well_data.csv\"\n",
    "\n",
    "includ_cols = ['Dia', 'Dev(deg)','Area (m2)', 'z','GasDens','LiquidDens', 'P/T','friction_factor', 'critical_film_thickness']\n",
    "D = ChiefBldr(path=data_path, includ_cols=includ_cols, test_size=0.20)"
   ]
  },
  {
   "cell_type": "code",
   "execution_count": 3,
   "id": "71c92a6e",
   "metadata": {},
   "outputs": [
    {
     "name": "stdout",
     "output_type": "stream",
     "text": [
      "Training set reg score: 87558.80204672382\n",
      "Test set reg score: 87443.36649989212\n"
     ]
    },
    {
     "name": "stderr",
     "output_type": "stream",
     "text": [
      "Training set class score: 0.7168674698795181\n",
      "Test set class score: 0.6666666666666666\n"
     ]
    },
    {
     "name": "stdout",
     "output_type": "stream",
     "text": [
      "0.163443*P/T + 1.52622 - 1.31662*exp(-0.842654*Area (m2))\n"
     ]
    }
   ],
   "source": [
    "# define xgboost pipeline\n",
    "def qlattice(\n",
    "        hparams: Dict[str,Any]\n",
    "):\n",
    "    ql_wrap = QLatticeWrapper(\n",
    "        feature_tags=includ_cols, \n",
    "        **hparams,\n",
    "    )\n",
    "\n",
    "    return ql_wrap\n",
    "\n",
    "hparam_grid = {\n",
    "            \"max_complexity\":   [5],\n",
    "            \"n_epochs\":         [5],\n",
    "        }\n",
    "# train model and optimize hyperparameters via grid search \n",
    "trained_model = D.evolv_model(build_model=qlattice, hparam_grid=hparam_grid, k_folds=5)\n",
    "\n",
    "# output equation \n",
    "print(trained_model.express())"
   ]
  }
 ],
 "metadata": {
  "kernelspec": {
   "display_name": "base",
   "language": "python",
   "name": "python3"
  },
  "language_info": {
   "codemirror_mode": {
    "name": "ipython",
    "version": 3
   },
   "file_extension": ".py",
   "mimetype": "text/x-python",
   "name": "python",
   "nbconvert_exporter": "python",
   "pygments_lexer": "ipython3",
   "version": "3.12.2"
  }
 },
 "nbformat": 4,
 "nbformat_minor": 5
}
