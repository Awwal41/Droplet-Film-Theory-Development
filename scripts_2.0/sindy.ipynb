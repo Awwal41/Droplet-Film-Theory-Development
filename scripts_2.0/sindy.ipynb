{
  "cells": [
    {
      "cell_type": "code",
      "execution_count": null,
      "metadata": {
        "id": "1EWx13AGiaPq"
      },
      "outputs": [],
      "source": [
        "import pandas as pd\n",
        "import numpy as np\n",
        "import matplotlib.pyplot as plt\n",
        "import matplotlib.patches as mpatches\n",
        "import seaborn as sns\n",
        "import pandas as pd\n",
        "from sklearn.metrics import mean_squared_error, r2_score, accuracy_score\n",
        "from sklearn.model_selection import train_test_split\n",
        "from pysindy import SINDy\n",
        "from sklearn.preprocessing import StandardScaler\n",
        "from pysindy.optimizers import STLSQ\n",
        "from sklearn.model_selection import KFold\n",
        "from sklearn.model_selection import StratifiedKFold \n",
        "from pysindy.feature_library import PolynomialLibrary, FourierLibrary, GeneralizedLibrary\n",
        "\n",
        "# Model agnostic \n",
        "from typing import Optional, List, Callable, Dict, Any, List\n",
        "from pathlib import Path\n",
        "from itertools import islice\n",
        "from dft_utils import ChiefBldr  # custom model for data handling/model trianing\n",
        "\n",
        "# Model specific \n",
        "from typing import Optional, List "
      ]
    },
    {
      "cell_type": "code",
      "execution_count": 2,
      "metadata": {},
      "outputs": [],
      "source": [
        "# Get the directory this file lives in\n",
        "nb_dir = Path.cwd() # notebook directory\n",
        "project_root = nb_dir.parents[0] # project directory\n",
        "data_path = project_root / \"datasets\" / \"processed_well_data.csv\"\n",
        "\n",
        "includ_cols = ['Dia', 'Dev(deg)','Area (m2)', 'z','GasDens','LiquidDens', 'P/T','friction_factor', 'critical_film_thickness']\n",
        "D = ChiefBldr(path=data_path, includ_cols=includ_cols, test_size=0.20)"
      ]
    },
    {
      "cell_type": "code",
      "execution_count": 3,
      "metadata": {},
      "outputs": [
        {
          "name": "stdout",
          "output_type": "stream",
          "text": [
            "Training model and optimizing hyperparameters via k-fold CV...\n",
            "Done. Best score = 0.7463458110516934\n",
            "Best hyperparameters: {'alpha': 1.7782794100389228, 'threshold': 0.1, 'degree': 2, 'n_frequencies': 2}\n",
            "Retraining optimized model on full training set\n",
            "Training set score: 0.7650602409638554\n",
            "Test set score: 0.6666666666666666\n"
          ]
        }
      ],
      "source": [
        "def sindy(\n",
        "        hparams: Dict[str,Any]\n",
        "):      \n",
        "        # partition dict by method\n",
        "        hparams_opt = dict(list(hparams.items())[:2])\n",
        "        hparams_poly = dict(list(hparams.items())[-2:-1])\n",
        "        hparams_fourier = dict(list(hparams.items())[-1:])\n",
        "        \n",
        "        # Define optimizer for SINDy\n",
        "        hparams_opt = dict(islice(hparams.items(), 2))\n",
        "        optimizer = STLSQ(\n",
        "        max_iter=10000,\n",
        "        normalize_columns=True,\n",
        "        **hparams_opt,\n",
        "        )\n",
        "        # specify feature lib\n",
        "        poly_library = PolynomialLibrary(**hparams_poly)\n",
        "        fourier_library = FourierLibrary(**hparams_fourier)\n",
        "        lib = GeneralizedLibrary([poly_library, fourier_library])\n",
        "        model = SINDy(optimizer=optimizer, feature_library=lib)\n",
        "\n",
        "        return model \n",
        "\n",
        "hparam_grid = {\n",
        "    'alpha': np.logspace(-4, 0.25, 10),      \n",
        "    'threshold': np.logspace(-4, -1, 10),  \n",
        "    'degree': [1, 2, 3, 4],\n",
        "    'n_frequencies': [1, 2, 3, 4]\n",
        "}\n",
        "\n",
        "# train model and optimize hyperparameters via grid search \n",
        "trained_model = D.evolv_model(build_model=sindy, hparam_grid=hparam_grid, k_folds=5)\n"
      ]
    }
  ],
  "metadata": {
    "colab": {
      "provenance": [],
      "toc_visible": true
    },
    "kernelspec": {
      "display_name": "base",
      "language": "python",
      "name": "python3"
    },
    "language_info": {
      "codemirror_mode": {
        "name": "ipython",
        "version": 3
      },
      "file_extension": ".py",
      "mimetype": "text/x-python",
      "name": "python",
      "nbconvert_exporter": "python",
      "pygments_lexer": "ipython3",
      "version": "3.12.2"
    }
  },
  "nbformat": 4,
  "nbformat_minor": 0
}
